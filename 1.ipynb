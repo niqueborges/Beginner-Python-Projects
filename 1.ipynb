{
  "nbformat": 4,
  "nbformat_minor": 0,
  "metadata": {
    "colab": {
      "provenance": [],
      "authorship_tag": "ABX9TyPIdE4019tU0JUX76f4zpP4",
      "include_colab_link": true
    },
    "kernelspec": {
      "name": "python3",
      "display_name": "Python 3"
    },
    "language_info": {
      "name": "python"
    }
  },
  "cells": [
    {
      "cell_type": "markdown",
      "metadata": {
        "id": "view-in-github",
        "colab_type": "text"
      },
      "source": [
        "<a href=\"https://colab.research.google.com/github/niqueborges/Beginner-Python-Projects/blob/main/1.ipynb\" target=\"_parent\"><img src=\"https://colab.research.google.com/assets/colab-badge.svg\" alt=\"Open In Colab\"/></a>"
      ]
    },
    {
      "cell_type": "markdown",
      "source": [
        "Exercício 1.2\n",
        "\n",
        "1. Quantos segundos há em 42 minutos e 42 segundos?\n"
      ],
      "metadata": {
        "id": "SR0VuFYPeKNd"
      }
    },
    {
      "cell_type": "code",
      "execution_count": 1,
      "metadata": {
        "colab": {
          "base_uri": "https://localhost:8080/"
        },
        "id": "5s97df1VPnrx",
        "outputId": "beb34941-d8f2-48b2-9940-21b3c13406d8"
      },
      "outputs": [
        {
          "output_type": "execute_result",
          "data": {
            "text/plain": [
              "2562"
            ]
          },
          "metadata": {},
          "execution_count": 1
        }
      ],
      "source": [
        "42 * 60 + 42\n"
      ]
    },
    {
      "cell_type": "markdown",
      "source": [
        "2. Quantas milhas há em 10 quilômetros? Dica: uma milha equivale a 1,61 quilômetros."
      ],
      "metadata": {
        "id": "LoKFiL9ne3Py"
      }
    },
    {
      "cell_type": "code",
      "source": [
        "10 / 1.61"
      ],
      "metadata": {
        "colab": {
          "base_uri": "https://localhost:8080/"
        },
        "id": "lyB1VNOBeIW1",
        "outputId": "66ce5322-9182-4ef5-96ca-037911b7d019"
      },
      "execution_count": 3,
      "outputs": [
        {
          "output_type": "execute_result",
          "data": {
            "text/plain": [
              "6.211180124223602"
            ]
          },
          "metadata": {},
          "execution_count": 3
        }
      ]
    },
    {
      "cell_type": "markdown",
      "source": [
        "Se você correr 10 quilômetros em 42 minutos e 42 segundos, qual é o seu passo médio (tempo por milha em minutos e segundos)? Qual a sua velocidade média em milhas por hora?"
      ],
      "metadata": {
        "id": "v4fS9HxDfVAx"
      }
    },
    {
      "cell_type": "code",
      "source": [
        "total_tempo_segundos = 2562\n",
        "distancia_milhas = 10 / 1.61\n",
        "\n"
      ],
      "metadata": {
        "id": "4USHigYbfS9R"
      },
      "execution_count": 5,
      "outputs": []
    },
    {
      "cell_type": "markdown",
      "source": [
        "Calcular passos em segundos por milhas e converter passos para minutos e segundos."
      ],
      "metadata": {
        "id": "QV5CJjrIiPay"
      }
    },
    {
      "cell_type": "code",
      "source": [
        "passos_segundos_milhas = total_tempo_segundos / distancia_milhas\n",
        "\n",
        "minutos = int(passos_segundos_milhas / 60)\n",
        "segundos = int(passos_segundos_milhas % 60)\n",
        "\n",
        "print(f\"Passos por milha em minutos e segundos: {minutos} minutos e {segundos} segundos.\")\n",
        "\n"
      ],
      "metadata": {
        "colab": {
          "base_uri": "https://localhost:8080/"
        },
        "id": "FqrhxVgbicd5",
        "outputId": "52abfe95-1284-4276-cbef-87997f90af94"
      },
      "execution_count": 8,
      "outputs": [
        {
          "output_type": "stream",
          "name": "stdout",
          "text": [
            "Passos por milha em minutos e segundos: 6 minutos e 52 segundos.\n"
          ]
        }
      ]
    },
    {
      "cell_type": "markdown",
      "source": [
        "Calcular velocidade média em milhas por hora (Calcular total do tempo em horas e calcular velocidade)."
      ],
      "metadata": {
        "id": "jTGYoBXFjZGI"
      }
    },
    {
      "cell_type": "code",
      "source": [
        "total_tempo_horas = total_tempo_segundos / 3600\n",
        "velocidade_mph = distancia_milhas / total_tempo_horas\n",
        "\n",
        "print(f\"Velocidade média em milhas por hora: {velocidade_mph:.2f} milhas por hora.\")"
      ],
      "metadata": {
        "colab": {
          "base_uri": "https://localhost:8080/"
        },
        "id": "GxatGZUJjstx",
        "outputId": "972228e5-952c-4133-c0d9-033253f727cb"
      },
      "execution_count": 13,
      "outputs": [
        {
          "output_type": "stream",
          "name": "stdout",
          "text": [
            "Velocidade média em milhas por hora: 8.73 milhas por hora.\n"
          ]
        }
      ]
    }
  ]
}