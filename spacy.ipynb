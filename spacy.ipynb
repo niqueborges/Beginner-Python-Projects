{
  "nbformat": 4,
  "nbformat_minor": 0,
  "metadata": {
    "colab": {
      "provenance": [],
      "authorship_tag": "ABX9TyPdfiKPHsdUrBisR2ZTyhnD",
      "include_colab_link": true
    },
    "kernelspec": {
      "name": "python3",
      "display_name": "Python 3"
    },
    "language_info": {
      "name": "python"
    }
  },
  "cells": [
    {
      "cell_type": "markdown",
      "metadata": {
        "id": "view-in-github",
        "colab_type": "text"
      },
      "source": [
        "<a href=\"https://colab.research.google.com/github/niqueborges/Beginner-Python-Projects/blob/main/spacy.ipynb\" target=\"_parent\"><img src=\"https://colab.research.google.com/assets/colab-badge.svg\" alt=\"Open In Colab\"/></a>"
      ]
    },
    {
      "cell_type": "code",
      "execution_count": null,
      "metadata": {
        "id": "CY5f5f3j67kQ"
      },
      "outputs": [],
      "source": [
        "!pip install -U spacy==3.2.0"
      ]
    },
    {
      "cell_type": "code",
      "source": [
        "!pip install spacy"
      ],
      "metadata": {
        "id": "wxC_B5-gLloz"
      },
      "execution_count": null,
      "outputs": []
    },
    {
      "cell_type": "code",
      "source": [
        "!python -m spacy download 'pt_core_news_lg'"
      ],
      "metadata": {
        "id": "aDzGflSHL02H"
      },
      "execution_count": null,
      "outputs": []
    },
    {
      "cell_type": "code",
      "source": [
        "import spacy"
      ],
      "metadata": {
        "id": "X2mkNdPEMZ4w"
      },
      "execution_count": null,
      "outputs": []
    },
    {
      "cell_type": "code",
      "source": [
        "nlp = spacy.load('pt_core_news_lg')"
      ],
      "metadata": {
        "id": "05LOYbfUNIXY"
      },
      "execution_count": null,
      "outputs": []
    },
    {
      "cell_type": "code",
      "source": [
        "print(type(nlp))"
      ],
      "metadata": {
        "id": "Wqv3LQluNekd"
      },
      "execution_count": null,
      "outputs": []
    },
    {
      "cell_type": "code",
      "source": [
        "print(nlp.pipe_names)"
      ],
      "metadata": {
        "id": "VmyapVOdNoE0"
      },
      "execution_count": null,
      "outputs": []
    },
    {
      "cell_type": "code",
      "source": [
        "documento = nlp(\"Eu gosto de bolo de chocolate\")\n",
        "#documento = nlp(\"Alegações extraordinárias requerem evidências extraordinárias. Carl Sagan: 'https://carlsagan.com' \")"
      ],
      "metadata": {
        "id": "3tkQS0OSOX5k"
      },
      "execution_count": null,
      "outputs": []
    },
    {
      "cell_type": "code",
      "source": [
        "len(documento.vocab)"
      ],
      "metadata": {
        "id": "XX6n6EDgO6Ys"
      },
      "execution_count": null,
      "outputs": []
    },
    {
      "cell_type": "code",
      "source": [
        "print(type(documento))"
      ],
      "metadata": {
        "id": "4ryXj47fO_jr"
      },
      "execution_count": null,
      "outputs": []
    },
    {
      "cell_type": "code",
      "source": [
        "for token in documento:\n",
        "  print(token.text)"
      ],
      "metadata": {
        "id": "lbUE3EP4XluJ"
      },
      "execution_count": null,
      "outputs": []
    },
    {
      "cell_type": "code",
      "source": [
        "print(documento[3:6])"
      ],
      "metadata": {
        "id": "6e4veR0maEFb"
      },
      "execution_count": null,
      "outputs": []
    },
    {
      "cell_type": "code",
      "source": [
        "print(len(documento))"
      ],
      "metadata": {
        "id": "JyIIoIwcaO1C"
      },
      "execution_count": null,
      "outputs": []
    },
    {
      "cell_type": "code",
      "source": [
        "print(\"Tokens: \", [token.text for token in documento])"
      ],
      "metadata": {
        "id": "XzwYpo_6aqNw"
      },
      "execution_count": null,
      "outputs": []
    },
    {
      "cell_type": "code",
      "source": [
        "print(\"Tokens: \", [token.text for token in documento])\n",
        "print(\"Stop word: \", [token.is_stop for token in documento])\n",
        "print(\"Alfanumérico: \", [token.is_alpha for token in documento])\n",
        "print(\"Maiúsculo: \", [token.is_upper for token in documento])\n",
        "print(\"Pontuação: \", [token.is_punct for token in documento])\n",
        "print(\"Número: \", [token.like_num for token in documento])\n",
        "print(\"Senteça incial: \", [token.is_sent_start for token in documento])"
      ],
      "metadata": {
        "id": "GwoJCcH8dd5C"
      },
      "execution_count": null,
      "outputs": []
    },
    {
      "cell_type": "code",
      "source": [],
      "metadata": {
        "id": "txxH5eYvfuw1"
      },
      "execution_count": null,
      "outputs": []
    },
    {
      "cell_type": "code",
      "source": [
        "print(\"Tokens: \", [token.text for token in documento])\n",
        "print(\"Stop word: \", [token.is_stop for token in documento])\n",
        "print(\"Alfanumérico: \", [token.is_alpha for token in documento])\n",
        "print(\"Maiúsculo: \", [token.is_upper for token in documento])\n",
        "print(\"Pontuação: \", [token.is_punct for token in documento])\n",
        "print(\"Número: \", [token.like_num for token in documento])\n",
        "print(\"Senteça incial: \", [token.is_sent_start for token in documento])"
      ],
      "metadata": {
        "id": "cQtb9l-Ofvn6"
      },
      "execution_count": null,
      "outputs": []
    },
    {
      "cell_type": "code",
      "source": [
        "print(\"Tokens: \", [token.text for token in documento])\n",
        "print(\"Formato: \", [token.shape_ for token in documento])"
      ],
      "metadata": {
        "colab": {
          "base_uri": "https://localhost:8080/"
        },
        "id": "HqZlVnbKf3m0",
        "outputId": "46eb345b-d588-429f-93d0-d1b3c43ebf12"
      },
      "execution_count": 30,
      "outputs": [
        {
          "output_type": "stream",
          "name": "stdout",
          "text": [
            "Tokens:  ['Eu', 'gosto', 'de', 'bolo', 'de', 'chocolate']\n",
            "Formato:  ['Xx', 'xxxx', 'xx', 'xxxx', 'xx', 'xxxx']\n"
          ]
        }
      ]
    }
  ]
}