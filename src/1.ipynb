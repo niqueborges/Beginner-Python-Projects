{
  "nbformat": 4,
  "nbformat_minor": 0,
  "metadata": {
    "colab": {
      "provenance": [],
      "authorship_tag": "ABX9TyMD9dJD49/cS7hpb+EDgEbR",
      "include_colab_link": true
    },
    "kernelspec": {
      "name": "python3",
      "display_name": "Python 3"
    },
    "language_info": {
      "name": "python"
    }
  },
  "cells": [
    {
      "cell_type": "markdown",
      "metadata": {
        "id": "view-in-github",
        "colab_type": "text"
      },
      "source": [
        "<a href=\"https://colab.research.google.com/github/niqueborges/Beginner-Python-Projects/blob/main/src/1.ipynb\" target=\"_parent\"><img src=\"https://colab.research.google.com/assets/colab-badge.svg\" alt=\"Open In Colab\"/></a>"
      ]
    },
    {
      "cell_type": "markdown",
      "source": [
        "Exercício 1.2\n",
        "\n",
        "1. Quantos segundos há em 42 minutos e 42 segundos?\n"
      ],
      "metadata": {
        "id": "SR0VuFYPeKNd"
      }
    },
    {
      "cell_type": "code",
      "execution_count": null,
      "metadata": {
        "colab": {
          "base_uri": "https://localhost:8080/"
        },
        "id": "5s97df1VPnrx",
        "outputId": "beb34941-d8f2-48b2-9940-21b3c13406d8"
      },
      "outputs": [
        {
          "output_type": "execute_result",
          "data": {
            "text/plain": [
              "2562"
            ]
          },
          "metadata": {},
          "execution_count": 1
        }
      ],
      "source": [
        "42 * 60 + 42\n"
      ]
    },
    {
      "cell_type": "markdown",
      "source": [
        "2. Quantas milhas há em 10 quilômetros? Dica: uma milha equivale a 1,61 quilômetros."
      ],
      "metadata": {
        "id": "LoKFiL9ne3Py"
      }
    },
    {
      "cell_type": "code",
      "source": [
        "10 / 1.61"
      ],
      "metadata": {
        "colab": {
          "base_uri": "https://localhost:8080/"
        },
        "id": "lyB1VNOBeIW1",
        "outputId": "66ce5322-9182-4ef5-96ca-037911b7d019"
      },
      "execution_count": null,
      "outputs": [
        {
          "output_type": "execute_result",
          "data": {
            "text/plain": [
              "6.211180124223602"
            ]
          },
          "metadata": {},
          "execution_count": 3
        }
      ]
    },
    {
      "cell_type": "markdown",
      "source": [
        "Se você correr 10 quilômetros em 42 minutos e 42 segundos, qual é o seu passo médio (tempo por milha em minutos e segundos)? Qual a sua velocidade média em milhas por hora?"
      ],
      "metadata": {
        "id": "v4fS9HxDfVAx"
      }
    },
    {
      "cell_type": "code",
      "source": [
        "total_tempo_segundos = 2562\n",
        "distancia_milhas = 10 / 1.61\n",
        "\n"
      ],
      "metadata": {
        "id": "4USHigYbfS9R"
      },
      "execution_count": null,
      "outputs": []
    },
    {
      "cell_type": "markdown",
      "source": [
        "Calcular passos em segundos por milhas e converter passos para minutos e segundos."
      ],
      "metadata": {
        "id": "QV5CJjrIiPay"
      }
    },
    {
      "cell_type": "code",
      "source": [
        "passos_segundos_milhas = total_tempo_segundos / distancia_milhas\n",
        "\n",
        "minutos = int(passos_segundos_milhas / 60)\n",
        "segundos = int(passos_segundos_milhas % 60)\n",
        "\n",
        "print(f\"Passos por milha em minutos e segundos: {minutos} minutos e {segundos} segundos.\")\n",
        "\n"
      ],
      "metadata": {
        "colab": {
          "base_uri": "https://localhost:8080/"
        },
        "id": "FqrhxVgbicd5",
        "outputId": "52abfe95-1284-4276-cbef-87997f90af94"
      },
      "execution_count": null,
      "outputs": [
        {
          "output_type": "stream",
          "name": "stdout",
          "text": [
            "Passos por milha em minutos e segundos: 6 minutos e 52 segundos.\n"
          ]
        }
      ]
    },
    {
      "cell_type": "markdown",
      "source": [
        "Calcular velocidade média em milhas por hora (Calcular total do tempo em horas e calcular velocidade)."
      ],
      "metadata": {
        "id": "jTGYoBXFjZGI"
      }
    },
    {
      "cell_type": "code",
      "source": [
        "total_tempo_horas = total_tempo_segundos / 3600\n",
        "velocidade_mph = distancia_milhas / total_tempo_horas\n",
        "\n",
        "print(f\"Velocidade média em milhas por hora: {velocidade_mph:.2f} milhas por hora.\")"
      ],
      "metadata": {
        "colab": {
          "base_uri": "https://localhost:8080/"
        },
        "id": "GxatGZUJjstx",
        "outputId": "972228e5-952c-4133-c0d9-033253f727cb"
      },
      "execution_count": null,
      "outputs": [
        {
          "output_type": "stream",
          "name": "stdout",
          "text": [
            "Velocidade média em milhas por hora: 8.73 milhas por hora.\n"
          ]
        }
      ]
    },
    {
      "cell_type": "code",
      "source": [],
      "metadata": {
        "id": "RNbl03h0Bflo"
      },
      "execution_count": null,
      "outputs": []
    },
    {
      "cell_type": "code",
      "execution_count": null,
      "metadata": {
        "id": "lYDqtu34eFOn"
      },
      "outputs": [],
      "source": [
        "nome = 'Monique'\n",
        "idade = 45\n",
        "altura = 1.72\n",
        "gosta_de_python = True"
      ]
    },
    {
      "cell_type": "code",
      "source": [
        "\n",
        "print(\"Nome:\", nome)\n",
        "print(\"Idade:\", idade, \"anos\")\n",
        "print(\"Altura:\", altura, \"metros\")\n",
        "print(\"Gosta de Python?\", gosta_de_python)"
      ],
      "metadata": {
        "colab": {
          "base_uri": "https://localhost:8080/"
        },
        "id": "23tOqEpVfdmt",
        "outputId": "0a3cf5fb-df4a-4df6-8b9a-0247eaf9f3cd"
      },
      "execution_count": null,
      "outputs": [
        {
          "output_type": "stream",
          "name": "stdout",
          "text": [
            "Nome: Monique\n",
            "Idade: 45 anos\n",
            "Altura: 1.72 metros\n",
            "Gosta de Python? True\n"
          ]
        }
      ]
    },
    {
      "cell_type": "code",
      "source": [
        "print(\"Nome:\", nome, \"-\", type(nome))\n",
        "print(\"Idade:\", idade, \"anos\", type(idade))\n",
        "print(\"Altura:\", altura, \"metros\", type(altura))\n",
        "print(\"Gosta de Python?\", gosta_de_python, \"-\", type(gosta_de_python))"
      ],
      "metadata": {
        "colab": {
          "base_uri": "https://localhost:8080/"
        },
        "id": "w3g2osPXiEPO",
        "outputId": "b941c678-92df-469d-f21d-3735fd5be2e8"
      },
      "execution_count": null,
      "outputs": [
        {
          "output_type": "stream",
          "name": "stdout",
          "text": [
            "Nome: Monique - <class 'str'>\n",
            "Idade: 45 anos <class 'int'>\n",
            "Altura: 1.72 metros <class 'float'>\n",
            "Gosta de Python? True - <class 'bool'>\n"
          ]
        }
      ]
    },
    {
      "cell_type": "code",
      "source": [
        "cor_favorita = 'azul'\n",
        "print(f'Minha cor favorita é {cor_favorita}.')"
      ],
      "metadata": {
        "id": "Apf03Gr2J4tv",
        "outputId": "8b562a4a-c5a5-45cb-b669-079f4f3a3b16",
        "colab": {
          "base_uri": "https://localhost:8080/"
        }
      },
      "execution_count": 2,
      "outputs": [
        {
          "output_type": "stream",
          "name": "stdout",
          "text": [
            "Minha cor favorita é azul.\n"
          ]
        }
      ]
    },
    {
      "cell_type": "code",
      "source": [
        "temperatura_atual = 29.5\n",
        "print(f'A temperatura agora é: {temperatura_atual} graus.')"
      ],
      "metadata": {
        "id": "DKeh7FywKHfu",
        "outputId": "7abf3e27-891d-445b-a66e-6eb2358335b3",
        "colab": {
          "base_uri": "https://localhost:8080/"
        }
      },
      "execution_count": 4,
      "outputs": [
        {
          "output_type": "stream",
          "name": "stdout",
          "text": [
            "A temperatura agora é: 29.5 graus.\n"
          ]
        }
      ]
    },
    {
      "cell_type": "code",
      "source": [
        "ja_programou_antes = True\n",
        "print(f'Já programou antes? {ja_programou_antes} ')"
      ],
      "metadata": {
        "id": "KwlOSsIBKT28",
        "outputId": "bc3e3140-6ca5-4009-d061-12d9595db0f3",
        "colab": {
          "base_uri": "https://localhost:8080/"
        }
      },
      "execution_count": 5,
      "outputs": [
        {
          "output_type": "stream",
          "name": "stdout",
          "text": [
            "Já programou antes? True \n"
          ]
        }
      ]
    },
    {
      "cell_type": "code",
      "source": [
        "seu_nome = 'Monique'\n",
        "sua_idade = 45\n",
        "print('Idade:', sua_idade, type(sua_idade))\n",
        "print('Nome:', seu_nome, type(seu_nome))"
      ],
      "metadata": {
        "id": "sCXmXXlTK33G",
        "outputId": "b8caed7b-50a7-4fb9-9bee-ad160921d28c",
        "colab": {
          "base_uri": "https://localhost:8080/"
        }
      },
      "execution_count": 8,
      "outputs": [
        {
          "output_type": "stream",
          "name": "stdout",
          "text": [
            "Idade: 45 <class 'int'>\n",
            "Nome: Monique <class 'str'>\n"
          ]
        }
      ]
    }
  ]
}