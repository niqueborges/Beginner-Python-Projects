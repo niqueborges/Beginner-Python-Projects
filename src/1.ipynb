{
  "nbformat": 4,
  "nbformat_minor": 0,
  "metadata": {
    "colab": {
      "provenance": [],
      "authorship_tag": "ABX9TyMxjNUad0oZGCNvwD7EAzUJ",
      "include_colab_link": true
    },
    "kernelspec": {
      "name": "python3",
      "display_name": "Python 3"
    },
    "language_info": {
      "name": "python"
    }
  },
  "cells": [
    {
      "cell_type": "markdown",
      "metadata": {
        "id": "view-in-github",
        "colab_type": "text"
      },
      "source": [
        "<a href=\"https://colab.research.google.com/github/niqueborges/Beginner-Python-Projects/blob/main/src/1.ipynb\" target=\"_parent\"><img src=\"https://colab.research.google.com/assets/colab-badge.svg\" alt=\"Open In Colab\"/></a>"
      ]
    },
    {
      "cell_type": "markdown",
      "source": [
        "Exercício 1.2\n",
        "\n",
        "1. Quantos segundos há em 42 minutos e 42 segundos?\n"
      ],
      "metadata": {
        "id": "SR0VuFYPeKNd"
      }
    },
    {
      "cell_type": "code",
      "execution_count": null,
      "metadata": {
        "id": "5s97df1VPnrx"
      },
      "outputs": [],
      "source": [
        "42 * 60 + 42\n"
      ]
    },
    {
      "cell_type": "markdown",
      "source": [
        "2. Quantas milhas há em 10 quilômetros? Dica: uma milha equivale a 1,61 quilômetros."
      ],
      "metadata": {
        "id": "LoKFiL9ne3Py"
      }
    },
    {
      "cell_type": "code",
      "source": [
        "10 / 1.61"
      ],
      "metadata": {
        "id": "lyB1VNOBeIW1"
      },
      "execution_count": null,
      "outputs": []
    },
    {
      "cell_type": "markdown",
      "source": [
        "Se você correr 10 quilômetros em 42 minutos e 42 segundos, qual é o seu passo médio (tempo por milha em minutos e segundos)? Qual a sua velocidade média em milhas por hora?"
      ],
      "metadata": {
        "id": "v4fS9HxDfVAx"
      }
    },
    {
      "cell_type": "code",
      "source": [
        "total_tempo_segundos = 2562\n",
        "distancia_milhas = 10 / 1.61\n",
        "\n"
      ],
      "metadata": {
        "id": "4USHigYbfS9R"
      },
      "execution_count": null,
      "outputs": []
    },
    {
      "cell_type": "markdown",
      "source": [
        "Calcular passos em segundos por milhas e converter passos para minutos e segundos."
      ],
      "metadata": {
        "id": "QV5CJjrIiPay"
      }
    },
    {
      "cell_type": "code",
      "source": [
        "passos_segundos_milhas = total_tempo_segundos / distancia_milhas\n",
        "\n",
        "minutos = int(passos_segundos_milhas / 60)\n",
        "segundos = int(passos_segundos_milhas % 60)\n",
        "\n",
        "print(f\"Passos por milha em minutos e segundos: {minutos} minutos e {segundos} segundos.\")\n",
        "\n"
      ],
      "metadata": {
        "id": "FqrhxVgbicd5"
      },
      "execution_count": null,
      "outputs": []
    },
    {
      "cell_type": "markdown",
      "source": [
        "Calcular velocidade média em milhas por hora (Calcular total do tempo em horas e calcular velocidade)."
      ],
      "metadata": {
        "id": "jTGYoBXFjZGI"
      }
    },
    {
      "cell_type": "code",
      "source": [
        "total_tempo_horas = total_tempo_segundos / 3600\n",
        "velocidade_mph = distancia_milhas / total_tempo_horas\n",
        "\n",
        "print(f\"Velocidade média em milhas por hora: {velocidade_mph:.2f} milhas por hora.\")"
      ],
      "metadata": {
        "id": "GxatGZUJjstx"
      },
      "execution_count": null,
      "outputs": []
    },
    {
      "cell_type": "code",
      "execution_count": null,
      "metadata": {
        "id": "lYDqtu34eFOn"
      },
      "outputs": [],
      "source": [
        "nome = 'Monique'\n",
        "idade = 45\n",
        "altura = 1.72\n",
        "gosta_de_python = True"
      ]
    },
    {
      "cell_type": "code",
      "source": [
        "\n",
        "print(\"Nome:\", nome)\n",
        "print(\"Idade:\", idade, \"anos\")\n",
        "print(\"Altura:\", altura, \"metros\")\n",
        "print(\"Gosta de Python?\", gosta_de_python)"
      ],
      "metadata": {
        "id": "23tOqEpVfdmt"
      },
      "execution_count": null,
      "outputs": []
    },
    {
      "cell_type": "code",
      "source": [
        "print(\"Nome:\", nome, \"-\", type(nome))\n",
        "print(\"Idade:\", idade, \"anos\", type(idade))\n",
        "print(\"Altura:\", altura, \"metros\", type(altura))\n",
        "print(\"Gosta de Python?\", gosta_de_python, \"-\", type(gosta_de_python))"
      ],
      "metadata": {
        "id": "w3g2osPXiEPO"
      },
      "execution_count": null,
      "outputs": []
    },
    {
      "cell_type": "code",
      "source": [
        "cor_favorita = 'azul'\n",
        "print(f'Minha cor favorita é {cor_favorita}.')"
      ],
      "metadata": {
        "id": "Apf03Gr2J4tv"
      },
      "execution_count": null,
      "outputs": []
    },
    {
      "cell_type": "code",
      "source": [
        "temperatura_atual = 29.5\n",
        "print(f'A temperatura agora é: {temperatura_atual} graus.')"
      ],
      "metadata": {
        "id": "DKeh7FywKHfu"
      },
      "execution_count": null,
      "outputs": []
    },
    {
      "cell_type": "code",
      "source": [
        "ja_programou_antes = True\n",
        "print(f'Já programou antes? {ja_programou_antes} ')"
      ],
      "metadata": {
        "id": "KwlOSsIBKT28"
      },
      "execution_count": null,
      "outputs": []
    },
    {
      "cell_type": "code",
      "source": [
        "seu_nome = 'Monique'\n",
        "sua_idade = 45\n",
        "print('Idade:', sua_idade, type(sua_idade))\n",
        "print('Nome:', seu_nome, type(seu_nome))"
      ],
      "metadata": {
        "id": "sCXmXXlTK33G"
      },
      "execution_count": null,
      "outputs": []
    },
    {
      "cell_type": "code",
      "source": [
        "numero1 = 10\n",
        "numero2 = 15\n",
        "soma_total = numero1 + numero2\n",
        "print(f'A soma de {numero1} e {numero2} é {soma_total}. ')"
      ],
      "metadata": {
        "id": "-S2Dq1ATRQu6"
      },
      "execution_count": null,
      "outputs": []
    },
    {
      "cell_type": "code",
      "source": [
        "print('Hello World')\n",
        "print('Hello again')\n",
        "print('I like typing this.')\n",
        "print('This is fun.')\n",
        "print('Yay! Printing.')\n",
        "print(\"I'd much rather you 'not'.\")\n",
        "print('I \"said\" do not touch this.')"
      ],
      "metadata": {
        "id": "fGpML7A3mI6C"
      },
      "execution_count": null,
      "outputs": []
    },
    {
      "cell_type": "code",
      "source": [
        "# Um comentário, assim você pode ler seu programa mais tarde.\n",
        "# Qualquer coisa depois de # é ignorada pelo python.\n",
        "\n",
        "print('I could have code like this. ')  # e ocometário depois é ignorado.\n",
        "\n",
        "# Você também pode usar um comentário para \"desabilitar\" um código:\n",
        "# print('This won't run.')\n",
        "\n",
        "print('This will run. ')"
      ],
      "metadata": {
        "id": "l2IOoM_HpmON"
      },
      "execution_count": null,
      "outputs": []
    },
    {
      "cell_type": "code",
      "source": [
        "print(\"I will now count my chickens:\")\n",
        "\n",
        "print(\"Hens\", 25 + 30 / 6)\n",
        "print(\"Roosters\", 100 - 25 * 3 % 4)\n",
        "\n",
        "print(\"Now I will count the eggs:\")\n",
        "\n",
        "print(3 + 2 + 1 - 5 + 4 % 2 - 1 / 4 + 6)\n",
        "\n",
        "print(\"Is it true that 3 + 2 < 5 - 7?\")\n",
        "\n",
        "print(3 + 2 < 5 - 7)\n",
        "\n",
        "print(\"What is 3 + 2?\", 3 + 2)\n",
        "print(\"What is 5 - 7?\", 5 - 7)\n",
        "\n",
        "print(\"Oh, that's why it's False.\")\n",
        "\n",
        "print(\"How about some more.\")\n",
        "\n",
        "print(\"Is it greater?\", 5 > -2)\n",
        "print(\"Is it greater or equal?\", 5 >= -2)\n",
        "print(\"Is it less or equal?\", 5 <= -2)"
      ],
      "metadata": {
        "id": "OX54tiavq3Kh"
      },
      "execution_count": null,
      "outputs": []
    },
    {
      "cell_type": "code",
      "source": [],
      "metadata": {
        "id": "PnsQPTe0tfi9"
      },
      "execution_count": null,
      "outputs": []
    }
  ]
}